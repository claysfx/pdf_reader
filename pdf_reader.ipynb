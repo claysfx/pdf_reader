{
 "cells": [
  {
   "cell_type": "markdown",
   "id": "5f3bb989",
   "metadata": {},
   "source": [
    "# Como extrair textos de PDF no Python\n",
    "**por Cleydson Junior**"
   ]
  },
  {
   "cell_type": "markdown",
   "id": "5ce1033e",
   "metadata": {},
   "source": [
    "Para extrair informações textuais de um PDF, primeiro, instale a biblioteca \"pdfplumber\".\n",
    "- Utilize \"pip install pdfplumber\""
   ]
  },
  {
   "cell_type": "code",
   "execution_count": 1,
   "id": "31ceab2b",
   "metadata": {},
   "outputs": [],
   "source": [
    "import pdfplumber"
   ]
  },
  {
   "cell_type": "markdown",
   "id": "16520856",
   "metadata": {},
   "source": [
    "Use o comando \"pdfplumber.open(local do arquivo)\" para selecionar o PDF: "
   ]
  },
  {
   "cell_type": "code",
   "execution_count": 2,
   "id": "1c99b3be",
   "metadata": {},
   "outputs": [],
   "source": [
    "pdf = pdfplumber.open('Datasheet-Rev-11.pdf')"
   ]
  },
  {
   "cell_type": "markdown",
   "id": "7912cde4",
   "metadata": {},
   "source": [
    "Para selecionar a página que você pretende usar, basta utilizar:\n",
    "- nome_da_variavel.pages[índice da página].extract_text()"
   ]
  },
  {
   "cell_type": "code",
   "execution_count": 3,
   "id": "2551a92d",
   "metadata": {},
   "outputs": [],
   "source": [
    "text = pdf.pages[1].extract_text()"
   ]
  },
  {
   "cell_type": "code",
   "execution_count": 5,
   "id": "7299c967",
   "metadata": {},
   "outputs": [
    {
     "name": "stdout",
     "output_type": "stream",
     "text": [
      "750 R Electric Motors\n",
      "Key Specifications\n",
      "Peak Torque @ 450 ARMS 790 Nm Continuous Power @\n",
      "Up to 70 kW\n",
      "3000 rpm (40˚C coolant)\n",
      "Peak Power @ 700 VDC 200 kW\n",
      "Speed 0 – 3250 rpm\n",
      "Peak Power @ 400 VDC 100 kW\n",
      "Peak Efficiency >95%\n",
      "Continuous Torque\n",
      "400 Nm\n",
      "(40˚C coolant) Mass 37 kg\n",
      "Technology With 400 Vdc & 400 Arms Controller\n",
      "• Best-in-class torque and power density.\n",
      "Peak power density >5 kW/kg\n",
      "• Dimensions just 368mm (D) x 98mm (L)\n",
      "• Through-shaft mounting, may be stacked for\n",
      "increased torque and power\n",
      "• Integrated position and temperature sensors\n",
      "With 800 Vdc & 450 Arms Controller\n",
      "Notes\n",
      "Specifications are based on dynamometer test\n",
      "data with coolant at 60˚C (inlet), 20 L/m and in a\n",
      "30˚C ambient unless stated otherwise.\n",
      "Actual performance will vary with drive cycle,\n",
      "cooling and installation details.\n",
      "For full product details, please\n",
      "contact sales@yasa.com\n",
      "detailing your motor and\n",
      "controller requirements.\n",
      "www.yasa.com\n",
      "+44 (0) 1865 952100\n",
      "©2019 YASA Limited. 11-14 Oxford Industrial Park, Kidlington OX5 1QU. UK. Registered in England, No. 06975790\n",
      "All specifications subject to change without notice. Rev 11. June 2019. ID 22735\n"
     ]
    }
   ],
   "source": [
    "print(text)"
   ]
  },
  {
   "cell_type": "markdown",
   "id": "a16a8901",
   "metadata": {},
   "source": [
    "*informações adicionais:*\n",
    "\n",
    "- O texto acima foi retirado de um datasheet do motor YASA 750R\n",
    "- Conteúdo baseado em um vídeo do instagram @empowerpython"
   ]
  }
 ],
 "metadata": {
  "kernelspec": {
   "display_name": "Python 3 (ipykernel)",
   "language": "python",
   "name": "python3"
  },
  "language_info": {
   "codemirror_mode": {
    "name": "ipython",
    "version": 3
   },
   "file_extension": ".py",
   "mimetype": "text/x-python",
   "name": "python",
   "nbconvert_exporter": "python",
   "pygments_lexer": "ipython3",
   "version": "3.9.13"
  }
 },
 "nbformat": 4,
 "nbformat_minor": 5
}
